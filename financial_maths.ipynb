{
  "nbformat": 4,
  "nbformat_minor": 0,
  "metadata": {
    "colab": {
      "provenance": []
    },
    "kernelspec": {
      "name": "python3",
      "display_name": "Python 3"
    },
    "language_info": {
      "name": "python"
    }
  },
  "cells": [
    {
      "cell_type": "markdown",
      "source": [
        "# COMPUTER PROJECT"
      ],
      "metadata": {
        "id": "Na517Ymnsij-"
      }
    },
    {
      "cell_type": "markdown",
      "source": [
        "Install necessary packages."
      ],
      "metadata": {
        "id": "Ze3CCl0s02gr"
      }
    },
    {
      "cell_type": "code",
      "execution_count": null,
      "metadata": {
        "id": "7RyeUrASE91-"
      },
      "outputs": [],
      "source": [
        "import numpy as np\n",
        "import scipy.stats as stat\n",
        "import pandas as pd\n",
        "import matplotlib.pyplot as plt"
      ]
    },
    {
      "cell_type": "markdown",
      "source": [
        "First, the data from the csv is read into a Pandas dataframe."
      ],
      "metadata": {
        "id": "zTOZ0iin5iP0"
      }
    },
    {
      "cell_type": "code",
      "source": [
        "stocks = pd.read_csv('project_data.csv')\n",
        "stocks"
      ],
      "metadata": {
        "colab": {
          "base_uri": "https://localhost:8080/",
          "height": 423
        },
        "id": "lwWTQzrIGoTg",
        "outputId": "8e0fd919-194e-4d50-acc8-c67b6206d6d7"
      },
      "execution_count": null,
      "outputs": [
        {
          "output_type": "execute_result",
          "data": {
            "text/plain": [
              "           Date    BHP     CSL    NAB    TCL   TLS\n",
              "0     1/07/2022  35.47  264.19  26.01  13.90  3.67\n",
              "1     4/07/2022  35.34  269.66  26.23  13.81  3.72\n",
              "2     5/07/2022  35.42  273.72  26.14  13.66  3.72\n",
              "3     6/07/2022  33.44  280.77  26.61  13.65  3.77\n",
              "4     7/07/2022  34.49  281.63  26.61  13.58  3.72\n",
              "..          ...    ...     ...    ...    ...   ...\n",
              "247  26/06/2023  43.24  277.92  25.57  14.00  4.22\n",
              "248  27/06/2023  43.89  276.98  25.75  14.04  4.20\n",
              "249  28/06/2023  44.19  276.29  26.25  14.18  4.25\n",
              "250  29/06/2023  43.73  276.24  26.35  14.19  4.23\n",
              "251  30/06/2023  43.77  275.32  26.37  14.25  4.21\n",
              "\n",
              "[252 rows x 6 columns]"
            ],
            "text/html": [
              "\n",
              "  <div id=\"df-d92922fd-21fb-4d53-a842-0a2f10f4ed0d\" class=\"colab-df-container\">\n",
              "    <div>\n",
              "<style scoped>\n",
              "    .dataframe tbody tr th:only-of-type {\n",
              "        vertical-align: middle;\n",
              "    }\n",
              "\n",
              "    .dataframe tbody tr th {\n",
              "        vertical-align: top;\n",
              "    }\n",
              "\n",
              "    .dataframe thead th {\n",
              "        text-align: right;\n",
              "    }\n",
              "</style>\n",
              "<table border=\"1\" class=\"dataframe\">\n",
              "  <thead>\n",
              "    <tr style=\"text-align: right;\">\n",
              "      <th></th>\n",
              "      <th>Date</th>\n",
              "      <th>BHP</th>\n",
              "      <th>CSL</th>\n",
              "      <th>NAB</th>\n",
              "      <th>TCL</th>\n",
              "      <th>TLS</th>\n",
              "    </tr>\n",
              "  </thead>\n",
              "  <tbody>\n",
              "    <tr>\n",
              "      <th>0</th>\n",
              "      <td>1/07/2022</td>\n",
              "      <td>35.47</td>\n",
              "      <td>264.19</td>\n",
              "      <td>26.01</td>\n",
              "      <td>13.90</td>\n",
              "      <td>3.67</td>\n",
              "    </tr>\n",
              "    <tr>\n",
              "      <th>1</th>\n",
              "      <td>4/07/2022</td>\n",
              "      <td>35.34</td>\n",
              "      <td>269.66</td>\n",
              "      <td>26.23</td>\n",
              "      <td>13.81</td>\n",
              "      <td>3.72</td>\n",
              "    </tr>\n",
              "    <tr>\n",
              "      <th>2</th>\n",
              "      <td>5/07/2022</td>\n",
              "      <td>35.42</td>\n",
              "      <td>273.72</td>\n",
              "      <td>26.14</td>\n",
              "      <td>13.66</td>\n",
              "      <td>3.72</td>\n",
              "    </tr>\n",
              "    <tr>\n",
              "      <th>3</th>\n",
              "      <td>6/07/2022</td>\n",
              "      <td>33.44</td>\n",
              "      <td>280.77</td>\n",
              "      <td>26.61</td>\n",
              "      <td>13.65</td>\n",
              "      <td>3.77</td>\n",
              "    </tr>\n",
              "    <tr>\n",
              "      <th>4</th>\n",
              "      <td>7/07/2022</td>\n",
              "      <td>34.49</td>\n",
              "      <td>281.63</td>\n",
              "      <td>26.61</td>\n",
              "      <td>13.58</td>\n",
              "      <td>3.72</td>\n",
              "    </tr>\n",
              "    <tr>\n",
              "      <th>...</th>\n",
              "      <td>...</td>\n",
              "      <td>...</td>\n",
              "      <td>...</td>\n",
              "      <td>...</td>\n",
              "      <td>...</td>\n",
              "      <td>...</td>\n",
              "    </tr>\n",
              "    <tr>\n",
              "      <th>247</th>\n",
              "      <td>26/06/2023</td>\n",
              "      <td>43.24</td>\n",
              "      <td>277.92</td>\n",
              "      <td>25.57</td>\n",
              "      <td>14.00</td>\n",
              "      <td>4.22</td>\n",
              "    </tr>\n",
              "    <tr>\n",
              "      <th>248</th>\n",
              "      <td>27/06/2023</td>\n",
              "      <td>43.89</td>\n",
              "      <td>276.98</td>\n",
              "      <td>25.75</td>\n",
              "      <td>14.04</td>\n",
              "      <td>4.20</td>\n",
              "    </tr>\n",
              "    <tr>\n",
              "      <th>249</th>\n",
              "      <td>28/06/2023</td>\n",
              "      <td>44.19</td>\n",
              "      <td>276.29</td>\n",
              "      <td>26.25</td>\n",
              "      <td>14.18</td>\n",
              "      <td>4.25</td>\n",
              "    </tr>\n",
              "    <tr>\n",
              "      <th>250</th>\n",
              "      <td>29/06/2023</td>\n",
              "      <td>43.73</td>\n",
              "      <td>276.24</td>\n",
              "      <td>26.35</td>\n",
              "      <td>14.19</td>\n",
              "      <td>4.23</td>\n",
              "    </tr>\n",
              "    <tr>\n",
              "      <th>251</th>\n",
              "      <td>30/06/2023</td>\n",
              "      <td>43.77</td>\n",
              "      <td>275.32</td>\n",
              "      <td>26.37</td>\n",
              "      <td>14.25</td>\n",
              "      <td>4.21</td>\n",
              "    </tr>\n",
              "  </tbody>\n",
              "</table>\n",
              "<p>252 rows × 6 columns</p>\n",
              "</div>\n",
              "    <div class=\"colab-df-buttons\">\n",
              "\n",
              "  <div class=\"colab-df-container\">\n",
              "    <button class=\"colab-df-convert\" onclick=\"convertToInteractive('df-d92922fd-21fb-4d53-a842-0a2f10f4ed0d')\"\n",
              "            title=\"Convert this dataframe to an interactive table.\"\n",
              "            style=\"display:none;\">\n",
              "\n",
              "  <svg xmlns=\"http://www.w3.org/2000/svg\" height=\"24px\" viewBox=\"0 -960 960 960\">\n",
              "    <path d=\"M120-120v-720h720v720H120Zm60-500h600v-160H180v160Zm220 220h160v-160H400v160Zm0 220h160v-160H400v160ZM180-400h160v-160H180v160Zm440 0h160v-160H620v160ZM180-180h160v-160H180v160Zm440 0h160v-160H620v160Z\"/>\n",
              "  </svg>\n",
              "    </button>\n",
              "\n",
              "  <style>\n",
              "    .colab-df-container {\n",
              "      display:flex;\n",
              "      gap: 12px;\n",
              "    }\n",
              "\n",
              "    .colab-df-convert {\n",
              "      background-color: #E8F0FE;\n",
              "      border: none;\n",
              "      border-radius: 50%;\n",
              "      cursor: pointer;\n",
              "      display: none;\n",
              "      fill: #1967D2;\n",
              "      height: 32px;\n",
              "      padding: 0 0 0 0;\n",
              "      width: 32px;\n",
              "    }\n",
              "\n",
              "    .colab-df-convert:hover {\n",
              "      background-color: #E2EBFA;\n",
              "      box-shadow: 0px 1px 2px rgba(60, 64, 67, 0.3), 0px 1px 3px 1px rgba(60, 64, 67, 0.15);\n",
              "      fill: #174EA6;\n",
              "    }\n",
              "\n",
              "    .colab-df-buttons div {\n",
              "      margin-bottom: 4px;\n",
              "    }\n",
              "\n",
              "    [theme=dark] .colab-df-convert {\n",
              "      background-color: #3B4455;\n",
              "      fill: #D2E3FC;\n",
              "    }\n",
              "\n",
              "    [theme=dark] .colab-df-convert:hover {\n",
              "      background-color: #434B5C;\n",
              "      box-shadow: 0px 1px 3px 1px rgba(0, 0, 0, 0.15);\n",
              "      filter: drop-shadow(0px 1px 2px rgba(0, 0, 0, 0.3));\n",
              "      fill: #FFFFFF;\n",
              "    }\n",
              "  </style>\n",
              "\n",
              "    <script>\n",
              "      const buttonEl =\n",
              "        document.querySelector('#df-d92922fd-21fb-4d53-a842-0a2f10f4ed0d button.colab-df-convert');\n",
              "      buttonEl.style.display =\n",
              "        google.colab.kernel.accessAllowed ? 'block' : 'none';\n",
              "\n",
              "      async function convertToInteractive(key) {\n",
              "        const element = document.querySelector('#df-d92922fd-21fb-4d53-a842-0a2f10f4ed0d');\n",
              "        const dataTable =\n",
              "          await google.colab.kernel.invokeFunction('convertToInteractive',\n",
              "                                                    [key], {});\n",
              "        if (!dataTable) return;\n",
              "\n",
              "        const docLinkHtml = 'Like what you see? Visit the ' +\n",
              "          '<a target=\"_blank\" href=https://colab.research.google.com/notebooks/data_table.ipynb>data table notebook</a>'\n",
              "          + ' to learn more about interactive tables.';\n",
              "        element.innerHTML = '';\n",
              "        dataTable['output_type'] = 'display_data';\n",
              "        await google.colab.output.renderOutput(dataTable, element);\n",
              "        const docLink = document.createElement('div');\n",
              "        docLink.innerHTML = docLinkHtml;\n",
              "        element.appendChild(docLink);\n",
              "      }\n",
              "    </script>\n",
              "  </div>\n",
              "\n",
              "\n",
              "<div id=\"df-a3f20044-2cc1-4af0-800d-ef12475d4ef6\">\n",
              "  <button class=\"colab-df-quickchart\" onclick=\"quickchart('df-a3f20044-2cc1-4af0-800d-ef12475d4ef6')\"\n",
              "            title=\"Suggest charts\"\n",
              "            style=\"display:none;\">\n",
              "\n",
              "<svg xmlns=\"http://www.w3.org/2000/svg\" height=\"24px\"viewBox=\"0 0 24 24\"\n",
              "     width=\"24px\">\n",
              "    <g>\n",
              "        <path d=\"M19 3H5c-1.1 0-2 .9-2 2v14c0 1.1.9 2 2 2h14c1.1 0 2-.9 2-2V5c0-1.1-.9-2-2-2zM9 17H7v-7h2v7zm4 0h-2V7h2v10zm4 0h-2v-4h2v4z\"/>\n",
              "    </g>\n",
              "</svg>\n",
              "  </button>\n",
              "\n",
              "<style>\n",
              "  .colab-df-quickchart {\n",
              "      --bg-color: #E8F0FE;\n",
              "      --fill-color: #1967D2;\n",
              "      --hover-bg-color: #E2EBFA;\n",
              "      --hover-fill-color: #174EA6;\n",
              "      --disabled-fill-color: #AAA;\n",
              "      --disabled-bg-color: #DDD;\n",
              "  }\n",
              "\n",
              "  [theme=dark] .colab-df-quickchart {\n",
              "      --bg-color: #3B4455;\n",
              "      --fill-color: #D2E3FC;\n",
              "      --hover-bg-color: #434B5C;\n",
              "      --hover-fill-color: #FFFFFF;\n",
              "      --disabled-bg-color: #3B4455;\n",
              "      --disabled-fill-color: #666;\n",
              "  }\n",
              "\n",
              "  .colab-df-quickchart {\n",
              "    background-color: var(--bg-color);\n",
              "    border: none;\n",
              "    border-radius: 50%;\n",
              "    cursor: pointer;\n",
              "    display: none;\n",
              "    fill: var(--fill-color);\n",
              "    height: 32px;\n",
              "    padding: 0;\n",
              "    width: 32px;\n",
              "  }\n",
              "\n",
              "  .colab-df-quickchart:hover {\n",
              "    background-color: var(--hover-bg-color);\n",
              "    box-shadow: 0 1px 2px rgba(60, 64, 67, 0.3), 0 1px 3px 1px rgba(60, 64, 67, 0.15);\n",
              "    fill: var(--button-hover-fill-color);\n",
              "  }\n",
              "\n",
              "  .colab-df-quickchart-complete:disabled,\n",
              "  .colab-df-quickchart-complete:disabled:hover {\n",
              "    background-color: var(--disabled-bg-color);\n",
              "    fill: var(--disabled-fill-color);\n",
              "    box-shadow: none;\n",
              "  }\n",
              "\n",
              "  .colab-df-spinner {\n",
              "    border: 2px solid var(--fill-color);\n",
              "    border-color: transparent;\n",
              "    border-bottom-color: var(--fill-color);\n",
              "    animation:\n",
              "      spin 1s steps(1) infinite;\n",
              "  }\n",
              "\n",
              "  @keyframes spin {\n",
              "    0% {\n",
              "      border-color: transparent;\n",
              "      border-bottom-color: var(--fill-color);\n",
              "      border-left-color: var(--fill-color);\n",
              "    }\n",
              "    20% {\n",
              "      border-color: transparent;\n",
              "      border-left-color: var(--fill-color);\n",
              "      border-top-color: var(--fill-color);\n",
              "    }\n",
              "    30% {\n",
              "      border-color: transparent;\n",
              "      border-left-color: var(--fill-color);\n",
              "      border-top-color: var(--fill-color);\n",
              "      border-right-color: var(--fill-color);\n",
              "    }\n",
              "    40% {\n",
              "      border-color: transparent;\n",
              "      border-right-color: var(--fill-color);\n",
              "      border-top-color: var(--fill-color);\n",
              "    }\n",
              "    60% {\n",
              "      border-color: transparent;\n",
              "      border-right-color: var(--fill-color);\n",
              "    }\n",
              "    80% {\n",
              "      border-color: transparent;\n",
              "      border-right-color: var(--fill-color);\n",
              "      border-bottom-color: var(--fill-color);\n",
              "    }\n",
              "    90% {\n",
              "      border-color: transparent;\n",
              "      border-bottom-color: var(--fill-color);\n",
              "    }\n",
              "  }\n",
              "</style>\n",
              "\n",
              "  <script>\n",
              "    async function quickchart(key) {\n",
              "      const quickchartButtonEl =\n",
              "        document.querySelector('#' + key + ' button');\n",
              "      quickchartButtonEl.disabled = true;  // To prevent multiple clicks.\n",
              "      quickchartButtonEl.classList.add('colab-df-spinner');\n",
              "      try {\n",
              "        const charts = await google.colab.kernel.invokeFunction(\n",
              "            'suggestCharts', [key], {});\n",
              "      } catch (error) {\n",
              "        console.error('Error during call to suggestCharts:', error);\n",
              "      }\n",
              "      quickchartButtonEl.classList.remove('colab-df-spinner');\n",
              "      quickchartButtonEl.classList.add('colab-df-quickchart-complete');\n",
              "    }\n",
              "    (() => {\n",
              "      let quickchartButtonEl =\n",
              "        document.querySelector('#df-a3f20044-2cc1-4af0-800d-ef12475d4ef6 button');\n",
              "      quickchartButtonEl.style.display =\n",
              "        google.colab.kernel.accessAllowed ? 'block' : 'none';\n",
              "    })();\n",
              "  </script>\n",
              "</div>\n",
              "\n",
              "  <div id=\"id_db7341a4-dfb6-44d4-a80f-0db7356d02af\">\n",
              "    <style>\n",
              "      .colab-df-generate {\n",
              "        background-color: #E8F0FE;\n",
              "        border: none;\n",
              "        border-radius: 50%;\n",
              "        cursor: pointer;\n",
              "        display: none;\n",
              "        fill: #1967D2;\n",
              "        height: 32px;\n",
              "        padding: 0 0 0 0;\n",
              "        width: 32px;\n",
              "      }\n",
              "\n",
              "      .colab-df-generate:hover {\n",
              "        background-color: #E2EBFA;\n",
              "        box-shadow: 0px 1px 2px rgba(60, 64, 67, 0.3), 0px 1px 3px 1px rgba(60, 64, 67, 0.15);\n",
              "        fill: #174EA6;\n",
              "      }\n",
              "\n",
              "      [theme=dark] .colab-df-generate {\n",
              "        background-color: #3B4455;\n",
              "        fill: #D2E3FC;\n",
              "      }\n",
              "\n",
              "      [theme=dark] .colab-df-generate:hover {\n",
              "        background-color: #434B5C;\n",
              "        box-shadow: 0px 1px 3px 1px rgba(0, 0, 0, 0.15);\n",
              "        filter: drop-shadow(0px 1px 2px rgba(0, 0, 0, 0.3));\n",
              "        fill: #FFFFFF;\n",
              "      }\n",
              "    </style>\n",
              "    <button class=\"colab-df-generate\" onclick=\"generateWithVariable('stocks')\"\n",
              "            title=\"Generate code using this dataframe.\"\n",
              "            style=\"display:none;\">\n",
              "\n",
              "  <svg xmlns=\"http://www.w3.org/2000/svg\" height=\"24px\"viewBox=\"0 0 24 24\"\n",
              "       width=\"24px\">\n",
              "    <path d=\"M7,19H8.4L18.45,9,17,7.55,7,17.6ZM5,21V16.75L18.45,3.32a2,2,0,0,1,2.83,0l1.4,1.43a1.91,1.91,0,0,1,.58,1.4,1.91,1.91,0,0,1-.58,1.4L9.25,21ZM18.45,9,17,7.55Zm-12,3A5.31,5.31,0,0,0,4.9,8.1,5.31,5.31,0,0,0,1,6.5,5.31,5.31,0,0,0,4.9,4.9,5.31,5.31,0,0,0,6.5,1,5.31,5.31,0,0,0,8.1,4.9,5.31,5.31,0,0,0,12,6.5,5.46,5.46,0,0,0,6.5,12Z\"/>\n",
              "  </svg>\n",
              "    </button>\n",
              "    <script>\n",
              "      (() => {\n",
              "      const buttonEl =\n",
              "        document.querySelector('#id_db7341a4-dfb6-44d4-a80f-0db7356d02af button.colab-df-generate');\n",
              "      buttonEl.style.display =\n",
              "        google.colab.kernel.accessAllowed ? 'block' : 'none';\n",
              "\n",
              "      buttonEl.onclick = () => {\n",
              "        google.colab.notebook.generateWithVariable('stocks');\n",
              "      }\n",
              "      })();\n",
              "    </script>\n",
              "  </div>\n",
              "\n",
              "    </div>\n",
              "  </div>\n"
            ],
            "application/vnd.google.colaboratory.intrinsic+json": {
              "type": "dataframe",
              "variable_name": "stocks",
              "summary": "{\n  \"name\": \"stocks\",\n  \"rows\": 252,\n  \"fields\": [\n    {\n      \"column\": \"Date\",\n      \"properties\": {\n        \"dtype\": \"string\",\n        \"num_unique_values\": 252,\n        \"samples\": [\n          \"24/02/2023\",\n          \"11/07/2022\",\n          \"6/12/2022\"\n        ],\n        \"semantic_type\": \"\",\n        \"description\": \"\"\n      }\n    },\n    {\n      \"column\": \"BHP\",\n      \"properties\": {\n        \"dtype\": \"number\",\n        \"std\": 4.301622637284997,\n        \"min\": 31.97,\n        \"max\": 47.2,\n        \"num_unique_values\": 228,\n        \"samples\": [\n          43.09,\n          37.86,\n          33.12\n        ],\n        \"semantic_type\": \"\",\n        \"description\": \"\"\n      }\n    },\n    {\n      \"column\": \"CSL\",\n      \"properties\": {\n        \"dtype\": \"number\",\n        \"std\": 9.739740643083682,\n        \"min\": 264.07,\n        \"max\": 309.78,\n        \"num_unique_values\": 243,\n        \"samples\": [\n          289.08,\n          282.6,\n          301.1\n        ],\n        \"semantic_type\": \"\",\n        \"description\": \"\"\n      }\n    },\n    {\n      \"column\": \"NAB\",\n      \"properties\": {\n        \"dtype\": \"number\",\n        \"std\": 1.5432234731576384,\n        \"min\": 25.16,\n        \"max\": 31.09,\n        \"num_unique_values\": 197,\n        \"samples\": [\n          27.2,\n          30.71,\n          28.49\n        ],\n        \"semantic_type\": \"\",\n        \"description\": \"\"\n      }\n    },\n    {\n      \"column\": \"TCL\",\n      \"properties\": {\n        \"dtype\": \"number\",\n        \"std\": 0.6734480039328488,\n        \"min\": 11.78,\n        \"max\": 14.86,\n        \"num_unique_values\": 150,\n        \"samples\": [\n          12.96,\n          14.11,\n          14.42\n        ],\n        \"semantic_type\": \"\",\n        \"description\": \"\"\n      }\n    },\n    {\n      \"column\": \"TLS\",\n      \"properties\": {\n        \"dtype\": \"number\",\n        \"std\": 0.20376129810007484,\n        \"min\": 3.57,\n        \"max\": 4.33,\n        \"num_unique_values\": 64,\n        \"samples\": [\n          4.19,\n          4.22,\n          3.67\n        ],\n        \"semantic_type\": \"\",\n        \"description\": \"\"\n      }\n    }\n  ]\n}"
            }
          },
          "metadata": {},
          "execution_count": 4
        }
      ]
    },
    {
      "cell_type": "markdown",
      "source": [
        "There are 6 columns. The first column corresponds to the date, and the other columns correspond to the stock prices of the company denoted at the head of the column."
      ],
      "metadata": {
        "id": "NAkyyx_hnoBa"
      }
    },
    {
      "cell_type": "markdown",
      "source": [
        "# Question 1"
      ],
      "metadata": {
        "id": "UMkEwESNGHVH"
      }
    },
    {
      "cell_type": "markdown",
      "source": [
        "The returns are calculated for each column from the stock values. Then the means and covariances for these returns are computed, and saved in *return_means* and *return_covs* respectively."
      ],
      "metadata": {
        "id": "7dvKCAw41AvT"
      }
    },
    {
      "cell_type": "code",
      "source": [
        "returns = []\n",
        "for col in stocks.columns:\n",
        "  if col != 'Date':\n",
        "    returns.append(stocks[col]/stocks[col].shift(1) - 1)\n",
        "    returns[-1] = returns[-1][1:]\n",
        "\n",
        "return_means = []\n",
        "for i in returns:\n",
        "  mean = np.mean(i)\n",
        "  return_means.append(round(mean, 5))\n",
        "\n",
        "return_covs = np.cov(returns)\n",
        "for i in return_covs:\n",
        "  for j, k in enumerate(i):\n",
        "    i[j] = round(k, 5)\n",
        "\n",
        "print(\"Mean returns: \", return_means)\n",
        "print(\"Returns covariance matrix: \\n\", return_covs)"
      ],
      "metadata": {
        "colab": {
          "base_uri": "https://localhost:8080/"
        },
        "id": "nCJXdO2ZGFWP",
        "outputId": "3b4f3be4-9663-4e26-ee5d-7d58f357ce7d"
      },
      "execution_count": null,
      "outputs": [
        {
          "output_type": "stream",
          "name": "stdout",
          "text": [
            "Mean returns:  [0.00099, 0.00023, 0.00013, 0.00015, 0.00058]\n",
            "Returns covariance matrix: \n",
            " [[ 3.0e-04 -1.0e-05  3.0e-05  2.0e-05 -1.0e-05]\n",
            " [-1.0e-05  1.2e-04  3.0e-05  4.0e-05  3.0e-05]\n",
            " [ 3.0e-05  3.0e-05  1.5e-04  4.0e-05  2.0e-05]\n",
            " [ 2.0e-05  4.0e-05  4.0e-05  1.0e-04  3.0e-05]\n",
            " [-1.0e-05  3.0e-05  2.0e-05  3.0e-05  7.0e-05]]\n"
          ]
        }
      ]
    },
    {
      "cell_type": "markdown",
      "source": [
        "The values for the mean returns and covariance matrix are as expected."
      ],
      "metadata": {
        "id": "sp0X6Lsr1YSr"
      }
    },
    {
      "cell_type": "markdown",
      "source": [
        "\n",
        "\n",
        "# Question 2\n"
      ],
      "metadata": {
        "id": "hBXtuSUZNRwZ"
      }
    },
    {
      "cell_type": "markdown",
      "source": [
        "To find an optimal portolio is to solve this quadratic programming problem.\n",
        "\n",
        "$min_{x \\in R} Z(x) = -t\\vec x^T\\vec r\n",
        "+ \\frac{1}{2}\\vec x^T C \\vec x$\n",
        "\n",
        "$s.t. \\vec x^T \\vec e = 1$\n",
        "\n",
        "The solution is $\\vec x = \\vec \\alpha + t\\vec \\beta$. Therefore, these functions must be defined to compute the optimal porfolio. $t$ is the risk aversion parameter."
      ],
      "metadata": {
        "id": "ixprwxNy2Dwv"
      }
    },
    {
      "cell_type": "code",
      "source": [
        "# define alpha and beta functions\n",
        "\n",
        "def alpha(C):\n",
        "  C_inv = np.linalg.inv(C)\n",
        "  e = np.ones(len(C_inv))\n",
        "  a = np.dot(np.dot(e, C_inv), e)\n",
        "\n",
        "  return 1/a * np.dot(C_inv, np.ones(len(C_inv)))\n",
        "\n",
        "def beta(r, C):\n",
        "  C_inv = np.linalg.inv(C)\n",
        "  e = np.ones(len(C_inv))\n",
        "  a = np.dot(np.dot(e, C_inv), e)\n",
        "  b = np.dot(np.dot(r, C_inv), e)\n",
        "\n",
        "  return np.dot(C_inv, r) - b/a * np.dot(C_inv, e)\n",
        "\n",
        "print(beta(return_covs))"
      ],
      "metadata": {
        "id": "3ZWUoyHwNTEf",
        "colab": {
          "base_uri": "https://localhost:8080/"
        },
        "outputId": "bf14f3d3-de88-4310-8ca7-e111d90242d3"
      },
      "execution_count": null,
      "outputs": [
        {
          "output_type": "stream",
          "name": "stdout",
          "text": [
            "[0.13629422 0.16810893 0.11745991 0.13642148 0.44171545]\n"
          ]
        }
      ]
    },
    {
      "cell_type": "markdown",
      "source": [
        "The mean and variance of the optimal portfolio are computed as below."
      ],
      "metadata": {
        "id": "GpRUZOIF3Qmy"
      }
    },
    {
      "cell_type": "code",
      "source": [
        "def mu(t, r, C):\n",
        "  C_inv = np.linalg.inv(C)\n",
        "  e = np.ones(len(C_inv))\n",
        "  a = np.dot(np.dot(e, C_inv), e)\n",
        "  b = np.dot(np.dot(r, C_inv), e)\n",
        "  c = np.dot(np.dot(r, C_inv), r)\n",
        "  d = a * c - b ** 2\n",
        "\n",
        "  return (b + d * t) / a\n",
        "\n",
        "\n",
        "def sigma(t, r, C):\n",
        "  C_inv = np.linalg.inv(C)\n",
        "  e = np.ones(len(C_inv))\n",
        "  a = np.dot(np.dot(e, C_inv), e)\n",
        "  b = np.dot(np.dot(r, C_inv), e)\n",
        "  c = np.dot(np.dot(r, C_inv), r)\n",
        "  d = a * c - b ** 2\n",
        "\n",
        "  return np.sqrt((1 + d * t ** 2) / a)"
      ],
      "metadata": {
        "id": "Gf0zF7lavzwq"
      },
      "execution_count": null,
      "outputs": []
    },
    {
      "cell_type": "markdown",
      "source": [
        "The following functions return the expected return and risk, respectively, for a given portfolio in this market."
      ],
      "metadata": {
        "id": "EW5eIpcsoAAE"
      }
    },
    {
      "cell_type": "code",
      "source": [
        "def find_return(portfolio):\n",
        "  sum = 0\n",
        "  for i, val in enumerate(return_means):\n",
        "    sum += val * portfolio[i]\n",
        "  return sum\n",
        "\n",
        "def find_risk(portfolio):\n",
        "  sum = 0\n",
        "  for i, val1 in enumerate(return_covs):\n",
        "    for j, val2 in enumerate(val1):\n",
        "      sum += portfolio[i] * val2 * portfolio[j]\n",
        "  return np.sqrt(sum)"
      ],
      "metadata": {
        "id": "9eQfAXkzjvgN"
      },
      "execution_count": null,
      "outputs": []
    },
    {
      "cell_type": "markdown",
      "source": [
        "The function *x_general* return the optimal portfolio for a given combination of $t$ parameter, expected returns and covariance matrix."
      ],
      "metadata": {
        "id": "A2pvJ_WfoJgS"
      }
    },
    {
      "cell_type": "code",
      "source": [
        "  # optimal portfolio vector is determined by alpha, beta and the risk aversion\n",
        "  def x_general(t, r, C):\n",
        "    return alpha(C) + t * beta(r, C)"
      ],
      "metadata": {
        "id": "LSd3T9UOf1BT"
      },
      "execution_count": null,
      "outputs": []
    },
    {
      "cell_type": "code",
      "source": [
        "# define the optimal portfolio for the stocks data\n",
        "def x(t):\n",
        "  return x_general(t, return_means, return_covs)"
      ],
      "metadata": {
        "id": "2yr4td4wgNxw"
      },
      "execution_count": null,
      "outputs": []
    },
    {
      "cell_type": "markdown",
      "source": [
        "The following graph depicts the $t$ values for which the optimal portfolios have no short-selling."
      ],
      "metadata": {
        "id": "dhneXmUYobKU"
      }
    },
    {
      "cell_type": "code",
      "source": [
        "# define a set of possible t values\n",
        "t_vec = np.linspace(0.0, 4.0, num=10000)\n",
        "\n",
        "# find the optimal portfolio for each value of t\n",
        "x_matrix = []\n",
        "for t in t_vec:\n",
        "  x_matrix.append(x(t))\n",
        "\n",
        "# find which portfolios have no short-selling\n",
        "no_short_selling = []\n",
        "nss_t_vals = []\n",
        "\n",
        "# 1 is no short selling, 0 is short selling\n",
        "y = np.zeros(len(t_vec))\n",
        "\n",
        "for j, portfolio in enumerate(x_matrix):\n",
        "  if j == 0:\n",
        "    continue\n",
        "  short_selling = False\n",
        "  for i in portfolio:\n",
        "    if i < 0:\n",
        "      short_selling = True\n",
        "  if not short_selling:\n",
        "    no_short_selling.append(portfolio)\n",
        "    nss_t_vals.append(t_vec[j]) # save the t-value\n",
        "    y[j] = 1\n",
        "\n",
        "plt.plot(t_vec, y)\n",
        "plt.xlabel('t')\n",
        "plt.ylabel('Short-selling (No = 1, Yes = 0)')"
      ],
      "metadata": {
        "colab": {
          "base_uri": "https://localhost:8080/",
          "height": 466
        },
        "id": "1DiQSGinf3nL",
        "outputId": "62ed288f-1bde-4c1b-8472-a322bb4c5431"
      },
      "execution_count": null,
      "outputs": [
        {
          "output_type": "execute_result",
          "data": {
            "text/plain": [
              "Text(0, 0.5, 'Short-selling (No = 1, Yes = 0)')"
            ]
          },
          "metadata": {},
          "execution_count": 113
        },
        {
          "output_type": "display_data",
          "data": {
            "text/plain": [
              "<Figure size 640x480 with 1 Axes>"
            ],
            "image/png": "[encoded data removed]"
          },
          "metadata": {}
        }
      ]
    },
    {
      "cell_type": "markdown",
      "source": [
        "There is a range of t values for which there is no short-selling. Above a certain values, the optimal portfolio involves short-selling, and bellow it, there is no short-selling. It is necessary to find what this value is.\n"
      ],
      "metadata": {
        "id": "_Q683r67kIWk"
      }
    },
    {
      "cell_type": "code",
      "source": [
        "upper_limit = 0\n",
        "for i, val in enumerate(y):\n",
        "  if i < len(y) - 1:\n",
        "    if (y[i + 1] == 0 and val == 1):\n",
        "      upper_limit = t_vec[i]\n",
        "\n",
        "print(\"If t <=\", round(upper_limit, 5), \"then the optimal portfolio involves no short-selling.\\n\",\n",
        "  \"If t >\", round(upper_limit, 5), \"then the optimal portfolio involves short-selling.\")"
      ],
      "metadata": {
        "id": "44F9YTSXVdbT",
        "colab": {
          "base_uri": "https://localhost:8080/"
        },
        "outputId": "ae59938a-02d1-4abe-f126-0b23659ac850"
      },
      "execution_count": null,
      "outputs": [
        {
          "output_type": "stream",
          "name": "stdout",
          "text": [
            "If t <= 0.0364 then the optimal portfolio involves no short-selling.\n",
            " If t > 0.0364 then the optimal portfolio involves short-selling.\n"
          ]
        }
      ]
    },
    {
      "cell_type": "markdown",
      "source": [
        "# Question 3"
      ],
      "metadata": {
        "id": "GXxaTL8rml4s"
      }
    },
    {
      "cell_type": "markdown",
      "source": [
        "## a)"
      ],
      "metadata": {
        "id": "ji1wOblMWFsK"
      }
    },
    {
      "cell_type": "markdown",
      "source": [
        "The optimal portfolio for $t=0.04$ may be found from the function. If the portfolio is $10,000, then each element of the portfolio vector may be multiplied by this amount, likewise the mean and variance of the return. The risk may be multiplied by the square root."
      ],
      "metadata": {
        "id": "cW3T8ZjEy_c8"
      }
    },
    {
      "cell_type": "code",
      "source": [
        "t = 0.04\n",
        "portfolio = x(t)\n",
        "\n",
        "print(\"Portfolio for t = 0.04: \")\n",
        "\n",
        "for i, val in enumerate(portfolio):\n",
        "  if val >= 0:\n",
        "    print('  ' + stocks.columns[i + 1] + ':', '$' + str(int(round(val*10000, 0))))\n",
        "  else:\n",
        "    print('  ' + stocks.columns[i + 1] + ':', '-$' + str(abs(int(round(val*10000, 0)))))\n",
        "print('\\n')\n",
        "\n",
        "print(\"Mean rerturn:\",\n",
        "      '$' + str((round(find_return(portfolio) * 10000, 2))))\n",
        "\n",
        "print(\"Risk:\",\n",
        "      '$' + str((round(find_risk(portfolio) * 100, 3))))"
      ],
      "metadata": {
        "colab": {
          "base_uri": "https://localhost:8080/"
        },
        "id": "oY6DgaWRmoUr",
        "outputId": "051ef141-8a6c-4085-a0da-74974d657aa9"
      },
      "execution_count": null,
      "outputs": [
        {
          "output_type": "stream",
          "name": "stdout",
          "text": [
            "Portfolio for t = 0.04: \n",
            "  BHP: $2292\n",
            "  CSL: $1212\n",
            "  NAB: $335\n",
            "  TCL: -$119\n",
            "  TLS: $6281\n",
            "\n",
            "\n",
            "Mean rerturn: $6.22\n",
            "Risk: $0.688\n"
          ]
        }
      ]
    },
    {
      "cell_type": "markdown",
      "source": [
        "## b)\n",
        "\n"
      ],
      "metadata": {
        "id": "r9XSLbwY3_69"
      }
    },
    {
      "cell_type": "markdown",
      "source": [
        "With the restriction of no short-selling, the optimal portfolio may be found from the unconstrained optimal portfolio. The element of the portfolio that is negative is set to zero. Then an optimal portfolio is found in a market that excludes that asset."
      ],
      "metadata": {
        "id": "u0tvEOi37Dlq"
      }
    },
    {
      "cell_type": "code",
      "source": [
        "means_restricted = return_means.copy()\n",
        "means_restricted.pop(3)\n",
        "\n",
        "covs_restricted = return_covs.tolist()\n",
        "covs_restricted.pop(3)\n",
        "for i in covs_restricted:\n",
        "  i.pop(3)\n",
        "covs_restricted"
      ],
      "metadata": {
        "colab": {
          "base_uri": "https://localhost:8080/"
        },
        "id": "EbuTk3xR4BMs",
        "outputId": "20200b4a-deb1-40a7-983c-dd3cc449aacb"
      },
      "execution_count": null,
      "outputs": [
        {
          "output_type": "execute_result",
          "data": {
            "text/plain": [
              "[[0.0003, -1e-05, 3e-05, -1e-05],\n",
              " [-1e-05, 0.00012, 3e-05, 3e-05],\n",
              " [3e-05, 3e-05, 0.00015, 2e-05],\n",
              " [-1e-05, 3e-05, 2e-05, 7e-05]]"
            ]
          },
          "metadata": {},
          "execution_count": 116
        }
      ]
    },
    {
      "cell_type": "code",
      "source": [
        "restricted_portfolio = (x_general(0.04, means_restricted, covs_restricted)).tolist()\n",
        "restricted_portfolio.insert(3, 0)\n",
        "restricted_portfolio"
      ],
      "metadata": {
        "id": "GSYYNtvFS4xH",
        "colab": {
          "base_uri": "https://localhost:8080/"
        },
        "outputId": "62f8372c-9f9f-4a53-9078-f266f91c8d5b"
      },
      "execution_count": null,
      "outputs": [
        {
          "output_type": "execute_result",
          "data": {
            "text/plain": [
              "[0.2279163179916318,\n",
              " 0.11792468619246858,\n",
              " 0.031062761506276126,\n",
              " 0,\n",
              " 0.6230962343096234]"
            ]
          },
          "metadata": {},
          "execution_count": 117
        }
      ]
    },
    {
      "cell_type": "markdown",
      "source": [
        "As before, the portfolio quantities are multiplied by the $10000 invested, and then displayed below."
      ],
      "metadata": {
        "id": "a3l79uEH2SPB"
      }
    },
    {
      "cell_type": "code",
      "source": [
        "print(\"Portfolio for t = 0.04 with no short-selling: \")\n",
        "\n",
        "for i, val in enumerate(restricted_portfolio):\n",
        "  if val >= 0:\n",
        "    print('  ' + stocks.columns[i + 1] + ':', '$' + str(int(round(val*10000, 0))))\n",
        "  else:\n",
        "    print('  ' + stocks.columns[i + 1] + ':', '-$' + str(abs(int(round(val*10000, 0)))))\n",
        "print('\\n')\n",
        "\n",
        "print(\"Mean rerturn:\",\n",
        "      '$' + str((round(find_return(restricted_portfolio) * 10000, 2))))\n",
        "\n",
        "print(\"Risk:\",\n",
        "      '$' + str((round(find_risk(restricted_portfolio) * 10000, 3))))"
      ],
      "metadata": {
        "id": "E-lJLUXB9Qoo",
        "colab": {
          "base_uri": "https://localhost:8080/"
        },
        "outputId": "33fe63cb-741d-43b0-ce96-d616e0c7a1b3"
      },
      "execution_count": null,
      "outputs": [
        {
          "output_type": "stream",
          "name": "stdout",
          "text": [
            "Portfolio for t = 0.04 with no short-selling: \n",
            "  BHP: $2279\n",
            "  CSL: $1179\n",
            "  NAB: $311\n",
            "  TCL: $0\n",
            "  TLS: $6231\n",
            "\n",
            "\n",
            "Mean rerturn: $6.18\n",
            "Risk: $0.686\n"
          ]
        }
      ]
    },
    {
      "cell_type": "markdown",
      "source": [
        "# Question 4"
      ],
      "metadata": {
        "id": "wCVzibpZy1c8"
      }
    },
    {
      "cell_type": "markdown",
      "source": [
        "First, the risk-return pairs will be generated, and then they will be displayed on the same graph."
      ],
      "metadata": {
        "id": "jeQhP-S9Z1ef"
      }
    },
    {
      "cell_type": "markdown",
      "source": [
        "## i\n",
        "\n",
        "The mean return for each asset has already been found in question 1. The risk for each asset can be found from the square root of the diagonal elements of the covariance matrix."
      ],
      "metadata": {
        "id": "YYO7cQKdoD2u"
      }
    },
    {
      "cell_type": "code",
      "source": [
        "risk_means = return_covs.diagonal().tolist()\n",
        "for i, val in enumerate(risk_means):\n",
        "  risk_means[i] = np.sqrt(val)\n",
        "\n",
        "print(return_means)\n",
        "print(risk_means)"
      ],
      "metadata": {
        "colab": {
          "base_uri": "https://localhost:8080/"
        },
        "id": "IcTEiMBOrCSE",
        "outputId": "ebb1e7ec-0768-40f0-85c4-f918f743ce02"
      },
      "execution_count": null,
      "outputs": [
        {
          "output_type": "stream",
          "name": "stdout",
          "text": [
            "[0.00099, 0.00023, 0.00013, 0.00015, 0.00058]\n",
            "[0.017320508075688773, 0.010954451150103323, 0.01224744871391589, 0.01, 0.008366600265340755]\n"
          ]
        }
      ]
    },
    {
      "cell_type": "markdown",
      "source": [
        "## ii\n",
        "\n",
        "Find the return and risk of the portfolio for the investor from Question 3(a).\n",
        "\n",
        "This can be found from calculating the optimal return and risk for $t = 0.04$."
      ],
      "metadata": {
        "id": "kulbuN2wrpWe"
      }
    },
    {
      "cell_type": "code",
      "source": [
        "investor_mu = mu(0.04, return_means, return_covs)\n",
        "investor_s = sigma(0.04, return_means, return_covs)\n",
        "\n",
        "print(investor_mu, investor_s)"
      ],
      "metadata": {
        "colab": {
          "base_uri": "https://localhost:8080/"
        },
        "id": "ZBu8mfVgryul",
        "outputId": "8a25751f-3048-4772-b32c-3e8a74526f51"
      },
      "execution_count": null,
      "outputs": [
        {
          "output_type": "stream",
          "name": "stdout",
          "text": [
            "0.0006215838417627168 0.006876382141017713\n"
          ]
        }
      ]
    },
    {
      "cell_type": "markdown",
      "source": [
        "## iii\n",
        "\n",
        "Find the return and risk of the minimum risk portfolio.\n",
        "\n",
        "The minimum risk portfolio will be the portfolio corresponding to a t value of 0, as this corresponds to the maximum risk aversion."
      ],
      "metadata": {
        "id": "JUyjjpx8mhFK"
      }
    },
    {
      "cell_type": "code",
      "source": [
        "min_risk_risk = sigma(0, return_means, return_covs)\n",
        "min_risk_return = mu(0, return_means, return_covs)\n",
        "\n",
        "print(min_risk_risk, min_risk_return)"
      ],
      "metadata": {
        "colab": {
          "base_uri": "https://localhost:8080/"
        },
        "id": "EoVt84ahmse6",
        "outputId": "bf4c1d53-1177-42d8-93b9-3ebcba35734e"
      },
      "execution_count": null,
      "outputs": [
        {
          "output_type": "stream",
          "name": "stdout",
          "text": [
            "0.0064064225536855255 0.00046552430643929753\n"
          ]
        }
      ]
    },
    {
      "cell_type": "markdown",
      "source": [
        "## iv"
      ],
      "metadata": {
        "id": "U-Xs-AbfHOVC"
      }
    },
    {
      "cell_type": "markdown",
      "source": [
        "Generate the efficient frontier and minimum variance frontier.\n",
        "\n",
        "The minimum variance frontier is the set of mean and variance pairs for the optimal portfolios corresponding to every value of t. Therefore, an array of these pairs will be generated for a large set of t values.\n",
        "\n",
        "The efficient frontier is the segment of the minimum variance frontier for which $t \\geq 0$. This will constitute the upper half."
      ],
      "metadata": {
        "id": "7OOTFDWTHSkC"
      }
    },
    {
      "cell_type": "code",
      "source": [
        "t_vec1 = np.linspace(-10, 10, 2000)\n",
        "\n",
        "# minimum variance frontier\n",
        "mv_frontier_mu = []\n",
        "mv_frontier_s = []\n",
        "\n",
        "for i in t_vec1:\n",
        "  mean = mu(i, return_means, return_covs)\n",
        "  risk = sigma(i, return_means, return_covs)\n",
        "  mv_frontier_mu.append(mean)\n",
        "  mv_frontier_s.append(risk)\n",
        "\n",
        "# efficient frontier\n",
        "efficient_mu = mv_frontier_mu[1000:-1]\n",
        "efficient_s = mv_frontier_s[1000:-1]\n",
        "\n",
        "print(mv_frontier_s[0:9], mv_frontier_mu[0:9])\n",
        "print(efficient_s[0:9], efficient_mu[0:9])"
      ],
      "metadata": {
        "colab": {
          "base_uri": "https://localhost:8080/"
        },
        "id": "lYD3PUaSHRp6",
        "outputId": "b76b7e96-b464-48f6-8c5d-5acfed597ebd"
      },
      "execution_count": null,
      "outputs": [
        {
          "output_type": "stream",
          "name": "stdout",
          "text": [
            "[0.6246518074563496, 0.6240269089367357, 0.6234020104830827, 0.6227771120955891, 0.6221522137744541, 0.6215273155198783, 0.6209024173320623, 0.6202775192112079, 0.6196526211575178] [-0.038549359524415516, -0.03851032512338415, -0.03847129072235278, -0.03843225632132141, -0.03839322192029004, -0.03835418751925867, -0.038315153118227294, -0.038276118717195926, -0.03823708431616456]\n",
            "[0.0064140381006320005, 0.006474640014415197, 0.006594173218537797, 0.0067695166825854835, 0.006996475566700174, 0.0072702175452299365, 0.007585679568398154, 0.007937889167389814, 0.008322181980287644] [0.00048504150695497883, 0.0005240759079863552, 0.0005631103090177247, 0.0006021447100490942, 0.0006411791110804636, 0.0006802135121118331, 0.0007192479131432026, 0.0007582823141745721, 0.0007973167152059483]\n"
          ]
        }
      ]
    },
    {
      "cell_type": "markdown",
      "source": [
        "## v"
      ],
      "metadata": {
        "id": "4Lr8a5kfNFNH"
      }
    },
    {
      "cell_type": "markdown",
      "source": [
        "Generate the random portfolios"
      ],
      "metadata": {
        "id": "Hk5uEpj7HJze"
      }
    },
    {
      "cell_type": "code",
      "source": [
        "random_portfolios = []\n",
        "\n",
        "for i in range(5000):\n",
        "  np_feasible = np.random.rand(5)\n",
        "  # convert to list\n",
        "  feasible = []\n",
        "  for j in np_feasible:\n",
        "    feasible.append(j)\n",
        "  for j, val in enumerate(feasible):\n",
        "    feasible[j] = 1 - 2 * val\n",
        "  # find sum\n",
        "  sum = 0\n",
        "  for j in feasible:\n",
        "    sum += j\n",
        "  # normalise\n",
        "  for j, val in enumerate(feasible):\n",
        "    feasible[j] /= sum\n",
        "  random_portfolios.append(feasible)"
      ],
      "metadata": {
        "id": "v4z7HwZGNDIJ"
      },
      "execution_count": null,
      "outputs": []
    },
    {
      "cell_type": "markdown",
      "source": [
        "Find the return and risk of the random portfolios"
      ],
      "metadata": {
        "id": "ZMe7MF8XdLbH"
      }
    },
    {
      "cell_type": "code",
      "source": [
        "random_return = []\n",
        "random_risk = []\n",
        "\n",
        "for i in random_portfolios:\n",
        "  random_return.append(find_return(i))\n",
        "\n",
        "for i in random_portfolios:\n",
        "  random_risk.append(find_risk(i))"
      ],
      "metadata": {
        "id": "ms7DvhrYRaPT"
      },
      "execution_count": null,
      "outputs": []
    },
    {
      "cell_type": "markdown",
      "source": [
        "## Graph\n",
        "\n",
        "\n",
        "All of the risk-return pairs are displayed on the same graph."
      ],
      "metadata": {
        "id": "XsxKsHMMFm-f"
      }
    },
    {
      "cell_type": "code",
      "source": [
        "plt.scatter(random_risk, random_return, color='black') # Question v\n",
        "\n",
        "plt.plot(mv_frontier_s, mv_frontier_mu, color='green')\n",
        "plt.plot(efficient_s, efficient_mu, color='pink') # Question iv\n",
        "\n",
        "\n",
        "plt.scatter(risk_means, return_means, color='blue') # Question i\n",
        "\n",
        "plt.scatter(investor_s, investor_mu, color='red') # Question ii\n",
        "\n",
        "plt.scatter(min_risk_risk, min_risk_return, color='purple') # Question iii\n",
        "\n",
        "plt.title('Risk ($\\sigma$) vs Return ($\\mu$) in the Stock Market')\n",
        "\n",
        "plt.xlabel(\"$\\sigma$\")\n",
        "plt.ylabel(\"$\\mu$\")\n",
        "\n",
        "plt.legend(['Random Portfolios',\n",
        "            'Minimum Variance Frontier',\n",
        "            'Efficient Frontier',\n",
        "            'The 5 Assets',\n",
        "            'Optimal Portfolio t=0.04',\n",
        "            'Minimum Risk Portfolio'])\n",
        "\n",
        "plt.xlim(0.005, 0.02)\n",
        "plt.ylim(-0.001, 0.002)\n",
        "\n",
        "plt.show()"
      ],
      "metadata": {
        "colab": {
          "base_uri": "https://localhost:8080/",
          "height": 474
        },
        "id": "E5IqxZiCy3PA",
        "outputId": "3f8d277c-c194-4ab8-ead2-2a242696c4b6"
      },
      "execution_count": null,
      "outputs": [
        {
          "output_type": "display_data",
          "data": {
            "text/plain": [
              "<Figure size 640x480 with 1 Axes>"
            ],
            "image/png": "[encoded data removed]"
          },
          "metadata": {}
        }
      ]
    },
    {
      "cell_type": "markdown",
      "source": [
        "# Question 5"
      ],
      "metadata": {
        "id": "LRXOtJuTz0-d"
      }
    },
    {
      "cell_type": "markdown",
      "source": [
        "## a)"
      ],
      "metadata": {
        "id": "L5RJNVjfr0hg"
      }
    },
    {
      "cell_type": "markdown",
      "source": [
        "The optimal portfolio in a market with a risk-free asset may be found according to this formula.\n",
        "\n",
        "$\\hat{\\vec x}(t) = (1 - t \\vec eC^{-1}\\overline r,\n",
        "\\space tC^{-1}\\overline r)$\n",
        "\n",
        "$C$ represents the covariance matrix of the market with only risky assets, and $\\overline r$ reprents the mean returns of said market. The first element(s) of $\\hat{\\vec x}$ corresponds to the risk free asset(s), and the subsequent elements correspond to the risky assets."
      ],
      "metadata": {
        "id": "X9bUHZpKo_Uy"
      }
    },
    {
      "cell_type": "code",
      "source": [
        "t = 0.04\n",
        "\n",
        "rf_return = 0.0001 # return of risk-free asset\n",
        "excess = return_means.copy()\n",
        "for i, val in enumerate(excess):\n",
        "  excess[i] -= rf_return\n",
        "\n",
        "C_inv = np.linalg.inv(np.array(return_covs))\n",
        "rf_investment = 0\n",
        "for i, val in enumerate(C_inv):\n",
        "  for j in val:\n",
        "    rf_investment += j * excess[i]\n",
        "rf_investment *= t\n",
        "rf_investment = (1 - rf_investment)\n",
        "\n",
        "new_portfolio = [rf_investment]\n",
        "\n",
        "for i, val1 in enumerate(excess):\n",
        "  row = 0\n",
        "  for j, val2 in enumerate(C_inv):\n",
        "    row += C_inv[j][i] * val1\n",
        "  row *= t\n",
        "  new_portfolio.append((row))"
      ],
      "metadata": {
        "id": "oui0jViRz4Nd"
      },
      "execution_count": null,
      "outputs": []
    },
    {
      "cell_type": "code",
      "source": [
        "# calculate mean return and risk\n",
        "new_return = 0\n",
        "new_return += new_portfolio[0] * rf_return\n",
        "for i, val in enumerate(new_portfolio):\n",
        "  if i:\n",
        "    new_return += val * return_means[i - 1]\n",
        "    print(val)\n",
        "new_return = (new_return)\n",
        "\n",
        "new_risk = 0\n",
        "for i, val1 in enumerate(return_covs):\n",
        "  for j, val2 in enumerate(val1):\n",
        "    new_risk += (new_portfolio[i + 1]) * (new_portfolio[j + 1]) * val2\n",
        "new_risk = (np.sqrt(new_risk))"
      ],
      "metadata": {
        "colab": {
          "base_uri": "https://localhost:8080/"
        },
        "id": "q02tFgCgqJxx",
        "outputId": "8db9b943-a9e5-4110-e6e5-15c6f2225cbc"
      },
      "execution_count": null,
      "outputs": [
        {
          "output_type": "stream",
          "name": "stdout",
          "text": [
            "0.118221450497659\n",
            "0.021299184521410188\n",
            "0.003434312114353041\n",
            "0.006647855880437813\n",
            "0.2066391739791015\n"
          ]
        }
      ]
    },
    {
      "cell_type": "markdown",
      "source": [
        "The portfolio is displayed below."
      ],
      "metadata": {
        "id": "4hGnNHFDrNnn"
      }
    },
    {
      "cell_type": "code",
      "source": [
        "print(\"Portfolio for t = 0.04: \")\n",
        "\n",
        "for i, val in enumerate(new_portfolio):\n",
        "  if not i:\n",
        "    print('  Risk-Free Asset:', '$' + str((round(val * 10000, 0))))\n",
        "  elif val >= 0:\n",
        "    print('  ' + stocks.columns[i] + ':', '$' + str((round(val * 10000, 0))))\n",
        "  else:\n",
        "    print('  ' + stocks.columns[i] + ':', '-$' + str(abs((round(val * 10000, 0)))))\n",
        "print('\\n')\n",
        "\n",
        "print(\"Mean rerturn:\",\n",
        "      '$' + str(round(new_return * 10000, 2)))\n",
        "\n",
        "print(\"Risk:\",\n",
        "      '$' + str(round(new_risk * 100, 3)))"
      ],
      "metadata": {
        "colab": {
          "base_uri": "https://localhost:8080/"
        },
        "id": "nozq8_i5mdSs",
        "outputId": "d8c083d5-097e-47f6-f90b-0ceeced40994"
      },
      "execution_count": null,
      "outputs": [
        {
          "output_type": "stream",
          "name": "stdout",
          "text": [
            "Portfolio for t = 0.04: \n",
            "  Risk-Free Asset: $6438.0\n",
            "  BHP: $1182.0\n",
            "  CSL: $213.0\n",
            "  NAB: $34.0\n",
            "  TCL: $66.0\n",
            "  TLS: $2066.0\n",
            "\n",
            "\n",
            "Mean rerturn: $3.08\n",
            "Risk: $0.267\n"
          ]
        }
      ]
    },
    {
      "cell_type": "markdown",
      "source": [
        "## b)"
      ],
      "metadata": {
        "id": "BKslVSyx6Wb-"
      }
    },
    {
      "cell_type": "markdown",
      "source": [
        "### iv"
      ],
      "metadata": {
        "id": "ojx70o1t6X7c"
      }
    },
    {
      "cell_type": "markdown",
      "source": [
        "In order to find the capital market line, it is necessary to find $\\sigma_0$, which can be found according to the formula $\\sqrt{\\frac{a}{d} (r_0 - \\frac{b}{a})^2 + \\frac{1}{a}}$"
      ],
      "metadata": {
        "id": "t-Hg0-hemXDL"
      }
    },
    {
      "cell_type": "code",
      "source": [
        "# find sigma_0\n",
        "r_0 = rf_return\n",
        "\n",
        "a = 0\n",
        "for i in C_inv:\n",
        "  for j in i:\n",
        "    a += j\n",
        "print(a)\n",
        "b = 0\n",
        "for i, val in enumerate(C_inv):\n",
        "  for j in val:\n",
        "    b += return_means[i] * j\n",
        "print(b)\n",
        "c = 0\n",
        "for i, val1 in enumerate(C_inv):\n",
        "  for j, val2 in enumerate(val1):\n",
        "    c += return_means[i] * val2 * return_means[j]\n",
        "print(c)\n",
        "d = a * c - b ** 2\n",
        "print(d)\n",
        "\n",
        "sigma_0 = np.sqrt(a/d * (r_0 - b/a)**2 + 1/a)\n",
        "print(\"sigma_0:\", sigma_0)"
      ],
      "metadata": {
        "id": "ky4mfv84Jv_o",
        "colab": {
          "base_uri": "https://localhost:8080/"
        },
        "outputId": "7ac561d6-694b-4d56-9150-f9cbf15d7610"
      },
      "execution_count": null,
      "outputs": [
        {
          "output_type": "stream",
          "name": "stdout",
          "text": [
            "24365.135964776287\n",
            "11.342563021301666\n",
            "0.009181727166820964\n",
            "95.06029491887296\n",
            "sigma_0: 0.008676845448872468\n"
          ]
        }
      ]
    },
    {
      "cell_type": "code",
      "source": [
        "cml_risk = np.linspace(0, 1, 100) # 'cml' denotes capital market line\n",
        "cml_return = []\n",
        "for i in cml_risk:\n",
        "  cml_return.append(r_0 + sigma_0 * np.sqrt(d) * i)"
      ],
      "metadata": {
        "id": "O271ygBLfQc4"
      },
      "execution_count": null,
      "outputs": []
    },
    {
      "cell_type": "markdown",
      "source": [
        "### v"
      ],
      "metadata": {
        "id": "r7dZ9JiMWY-x"
      }
    },
    {
      "cell_type": "markdown",
      "source": [
        "To find the expected return and risk of the market portfolio, it is necessary to compute the parameter $t_m$. It can be found from the formula $t_m = \\frac{1}{b - ar_0}$"
      ],
      "metadata": {
        "id": "D_IkXGavqtuF"
      }
    },
    {
      "cell_type": "code",
      "source": [
        "# find market portfolio t parameter\n",
        "t_m = 1 / (b - a * r_0)\n",
        "t_m"
      ],
      "metadata": {
        "id": "lxmhR4AK6awE",
        "colab": {
          "base_uri": "https://localhost:8080/"
        },
        "outputId": "31be7d72-baaf-42fd-a13d-534d9c1a2060"
      },
      "execution_count": null,
      "outputs": [
        {
          "output_type": "execute_result",
          "data": {
            "text/plain": [
              "0.11228323045374944"
            ]
          },
          "metadata": {},
          "execution_count": 131
        }
      ]
    },
    {
      "cell_type": "markdown",
      "source": [
        "Find the market portfolio by finding the optimal portfolio for $t_m$."
      ],
      "metadata": {
        "id": "_4FgKEUKdJ_S"
      }
    },
    {
      "cell_type": "code",
      "source": [
        "market_x = x(t_m)\n",
        "\n",
        "print(market_x)\n",
        "print(find_return(market_x))\n",
        "print(find_risk(market_x))"
      ],
      "metadata": {
        "colab": {
          "base_uri": "https://localhost:8080/"
        },
        "id": "qxOgrOSXYcqP",
        "outputId": "0cc33d43-373b-4643-84ef-3b3995eb2f73"
      },
      "execution_count": null,
      "outputs": [
        {
          "output_type": "stream",
          "name": "stdout",
          "text": [
            "[ 0.39696499  0.03639058 -0.11819688 -0.27997322  0.96481454]\n",
            "0.0009035960256699109\n",
            "0.009498966140691931\n"
          ]
        }
      ]
    },
    {
      "cell_type": "markdown",
      "source": [
        "The market portfolio expected return can be found by this formula.\n",
        "\n",
        "$\\mu_M = \\frac{c-br_0}{b-ar_0}$\n",
        "\n",
        "$= \\frac{c-br_0}{t_M}$\n",
        "\n",
        "The market portfolio risk can be found by this formula.\n",
        "\n",
        "$\\sigma_m = \\frac{\\sigma_0\\sqrt{d}}{b-ar_0}$\n",
        "\n",
        "$=\\frac{\\sigma_0\\sqrt{d}}{t_M}$"
      ],
      "metadata": {
        "id": "1JDFnDMGq8I1"
      }
    },
    {
      "cell_type": "code",
      "source": [
        "mu_m = (c - b * r_0) * t_m\n",
        "mu_m"
      ],
      "metadata": {
        "id": "obyKiJF0f9Aw",
        "colab": {
          "base_uri": "https://localhost:8080/"
        },
        "outputId": "ebe636cc-3cf4-4612-bbff-fd0c75d73eb0"
      },
      "execution_count": null,
      "outputs": [
        {
          "output_type": "execute_result",
          "data": {
            "text/plain": [
              "0.0009035960256699111"
            ]
          },
          "metadata": {},
          "execution_count": 133
        }
      ]
    },
    {
      "cell_type": "code",
      "source": [
        "sigma_m = (sigma_0 * np.sqrt(d)) * t_m\n",
        "sigma_m"
      ],
      "metadata": {
        "colab": {
          "base_uri": "https://localhost:8080/"
        },
        "id": "_P4sXnLMbqir",
        "outputId": "a6e742ef-061e-405a-cb6d-84a6373fd257"
      },
      "execution_count": null,
      "outputs": [
        {
          "output_type": "execute_result",
          "data": {
            "text/plain": [
              "0.009498966140691931"
            ]
          },
          "metadata": {},
          "execution_count": 134
        }
      ]
    },
    {
      "cell_type": "markdown",
      "source": [
        "Here is the market portfolio, if $10,000 is invested."
      ],
      "metadata": {
        "id": "vssrE8p7nJjV"
      }
    },
    {
      "cell_type": "code",
      "source": [
        "print(\"Portfolio for t = t_m: \")\n",
        "\n",
        "print('  Risk-Free Asset:', '$' + str(abs(round(0 * 10000, 0))))\n",
        "for i, val in enumerate(market_x):\n",
        "  if val >= 0:\n",
        "    print('  ' + stocks.columns[i] + ':', '$' + str((round(val * 10000, 0))))\n",
        "  else:\n",
        "    print('  ' + stocks.columns[i] + ':', '-$' + str(abs((round(val * 10000, 0)))))\n",
        "print('\\n')\n",
        "\n",
        "print(\"Mean rerturn:\",\n",
        "      '$' + str(round(mu_m * 10000, 2)))\n",
        "\n",
        "print(\"Risk:\",\n",
        "      '$' + str(round(sigma_m * 100, 3)))"
      ],
      "metadata": {
        "colab": {
          "base_uri": "https://localhost:8080/"
        },
        "id": "2dToPqQDe-e_",
        "outputId": "39e3d940-a6cf-4d68-9f82-afd96fc5fcc3"
      },
      "execution_count": null,
      "outputs": [
        {
          "output_type": "stream",
          "name": "stdout",
          "text": [
            "Portfolio for t = t_m: \n",
            "  Risk-Free Asset: $0\n",
            "  Date: $3970.0\n",
            "  BHP: $364.0\n",
            "  CSL: -$1182.0\n",
            "  NAB: -$2800.0\n",
            "  TCL: $9648.0\n",
            "\n",
            "\n",
            "Mean rerturn: $9.04\n",
            "Risk: $0.95\n"
          ]
        }
      ]
    },
    {
      "cell_type": "markdown",
      "source": [
        "### Graph"
      ],
      "metadata": {
        "id": "wsq0bXBNj3J-"
      }
    },
    {
      "cell_type": "markdown",
      "source": [
        "The results are displayed graphically, as before."
      ],
      "metadata": {
        "id": "cHyuwN4hnRXC"
      }
    },
    {
      "cell_type": "code",
      "source": [
        "plt.scatter(risk_means, return_means, color='blue') # Question i\n",
        "\n",
        "plt.scatter(investor_s, investor_mu)\n",
        "plt.scatter(new_risk, new_return) # Question ii\n",
        "\n",
        "plt.plot(mv_frontier_s, mv_frontier_mu)\n",
        "plt.plot(efficient_s, efficient_mu) # Question iii\n",
        "\n",
        "plt.plot(cml_risk, cml_return) # Question iv\n",
        "\n",
        "plt.scatter(sigma_m, mu_m) # Question v\n",
        "\n",
        "plt.scatter(sigma_0, r_0)\n",
        "\n",
        "plt.title(\"Risk ($\\sigma$) vs Return ($\\mu$) in the Stock Market with Risk-Free Asset\")\n",
        "\n",
        "plt.xlabel('$\\sigma$')\n",
        "plt.ylabel('$\\mu$')\n",
        "\n",
        "plt.legend(['The 5 assets',\n",
        "            'Optimal Portfolio t=0.04, risk only',\n",
        "            'Optimal Portfolio t=0.04, with risk-free',\n",
        "            'Minimum Variance Frontier',\n",
        "            'Efficient Frontier',\n",
        "            'Capital Market Line',\n",
        "            'Market Portfolio'])\n",
        "\n",
        "plt.xlim(0, 0.02)\n",
        "plt.ylim(0, 0.002)\n",
        "\n",
        "plt.show()"
      ],
      "metadata": {
        "colab": {
          "base_uri": "https://localhost:8080/",
          "height": 474
        },
        "id": "K5yBqkwEj7AD",
        "outputId": "f97703d3-919b-4b30-e225-2c127094c9f0"
      },
      "execution_count": null,
      "outputs": [
        {
          "output_type": "display_data",
          "data": {
            "text/plain": [
              "<Figure size 640x480 with 1 Axes>"
            ],
            "image/png": "[encoded data removed]"
          },
          "metadata": {}
        }
      ]
    },
    {
      "cell_type": "markdown",
      "source": [
        "# Question 6"
      ],
      "metadata": {
        "id": "9j5EqgH7TX04"
      }
    },
    {
      "cell_type": "markdown",
      "source": [
        "## a)"
      ],
      "metadata": {
        "id": "tdOVKNRv8C6b"
      }
    },
    {
      "cell_type": "markdown",
      "source": [
        "The beta of a portfolio is defined as\n",
        "\n",
        "$\\beta = $Cov$(R_x, R_M)/\\sigma^2_M$\n",
        "\n",
        "The subscript $M$ denotes the market portfolio. The beta of a stock would be the beta of a portfolio consisting solely of that stock.\n"
      ],
      "metadata": {
        "id": "Bkw52hwMmLat"
      }
    },
    {
      "cell_type": "markdown",
      "source": [
        "The value of Cov$(R_x,R_M)$ can be found using the expression $\\vec x^T C \\vec x_M$"
      ],
      "metadata": {
        "id": "U6obMI5EYZWX"
      }
    },
    {
      "cell_type": "code",
      "source": [
        "# find covariance with market portfolio return for each asset\n",
        "cov_r_m = [] # the list of covariances between each asset and the market portfolio\n",
        "\n",
        "for i, val1 in enumerate(return_covs):\n",
        "  sum = 0\n",
        "  for j, val2 in enumerate(val1):\n",
        "    sum += val2 * market_x[j]\n",
        "  cov_r_m.append(sum)\n",
        "\n",
        "print(cov_r_m)"
      ],
      "metadata": {
        "colab": {
          "base_uri": "https://localhost:8080/"
        },
        "id": "CqgzR81imFMq",
        "outputId": "48a9b9d8-429a-46fa-a9f2-7eb8ae37d56b"
      },
      "execution_count": null,
      "outputs": [
        {
          "output_type": "stream",
          "name": "stdout",
          "text": [
            "[9.993207510383699e-05, 1.45968199589874e-05, 3.368496913612467e-06, 5.6141615226874515e-06, 5.3895950617799726e-05]\n"
          ]
        }
      ]
    },
    {
      "cell_type": "markdown",
      "source": [
        "The stock betas are displayed below."
      ],
      "metadata": {
        "id": "bRhW8e_6TSdP"
      }
    },
    {
      "cell_type": "code",
      "source": [
        "betas = cov_r_m.copy()\n",
        "\n",
        "for i, val in enumerate(betas):\n",
        "  betas[i] /= sigma_m ** 2\n",
        "\n",
        "print(\"Betas for each stock:\\n\")\n",
        "\n",
        "for i, val in enumerate(stocks.columns):\n",
        "  if not i:\n",
        "    continue\n",
        "  print(val + ':', betas[i-1])"
      ],
      "metadata": {
        "colab": {
          "base_uri": "https://localhost:8080/"
        },
        "id": "gYnWsi48vqCf",
        "outputId": "f8a495e3-e44b-46d6-bab7-76972e3a1d35"
      },
      "execution_count": null,
      "outputs": [
        {
          "output_type": "stream",
          "name": "stdout",
          "text": [
            "Betas for each stock:\n",
            "\n",
            "BHP: 1.1075216546249826\n",
            "CSL: 0.16177282595645787\n",
            "NAB: 0.03733219060533632\n",
            "TCL: 0.062220317675560605\n",
            "TLS: 0.597315049685384\n"
          ]
        }
      ]
    },
    {
      "cell_type": "markdown",
      "source": [
        "These betas are displayed, with the market portfolio beta displayed in purple, and the captial market line displayed in blue."
      ],
      "metadata": {
        "id": "iQ7DuhR9Tapn"
      }
    },
    {
      "cell_type": "code",
      "source": [
        "sm_line = [] # security market line\n",
        "sm_betas = np.linspace(0, betas[0], 100)\n",
        "for i in sm_betas:\n",
        "  sm_line.append(r_0 + i*(mu_m - r_0))\n",
        "\n",
        "plt.scatter(betas, return_means, color='red')\n",
        "plt.scatter(1, mu_m, color='purple')\n",
        "plt.plot(sm_betas, sm_line)\n",
        "\n",
        "print(mu_m)\n",
        "print(return_means)\n",
        "print(mu(t_m, return_means, return_covs))"
      ],
      "metadata": {
        "colab": {
          "base_uri": "https://localhost:8080/",
          "height": 482
        },
        "id": "8C9250sFusgL",
        "outputId": "99728b26-fc3f-43ed-e51b-bc2fa08c55ef"
      },
      "execution_count": null,
      "outputs": [
        {
          "output_type": "stream",
          "name": "stdout",
          "text": [
            "0.0009035960256699111\n",
            "[0.00099, 0.00023, 0.00013, 0.00015, 0.00058]\n",
            "0.000903596025669911\n"
          ]
        },
        {
          "output_type": "display_data",
          "data": {
            "text/plain": [
              "<Figure size 640x480 with 1 Axes>"
            ],
            "image/png": "[encoded data removed]"
          },
          "metadata": {}
        }
      ]
    },
    {
      "cell_type": "markdown",
      "source": [
        "## b)"
      ],
      "metadata": {
        "id": "xTm2-OVA8EIy"
      }
    },
    {
      "cell_type": "markdown",
      "source": [
        "The betas of BHP and TCL are very different. BHP has a large beta, greater than but almost equal to 1, indicating higher risk than the market, whereas TCL has a very low beta, indicating lower risk than the market. Firstly, according to the wikipedia pages, BHP has higher revenue, operating income, net income, total assets and total equity. This means that both the risk and return would be expected to be higher, since the underlying company is larger."
      ],
      "metadata": {
        "id": "FqkqnEF58E-r"
      }
    }
  ]
}